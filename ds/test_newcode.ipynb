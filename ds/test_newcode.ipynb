import joblib

# Save the trained model to a file
joblib.dump(model, 'random_forest_model.pkl')

print("Model saved successfully as 'random_forest_model.pkl'")